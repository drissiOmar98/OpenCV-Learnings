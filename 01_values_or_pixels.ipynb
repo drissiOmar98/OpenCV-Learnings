{
 "cells": [
  {
   "cell_type": "markdown",
   "id": "8a77807f92f26ee",
   "metadata": {},
   "source": [
    "# OpenCV Fundamentals: Image Representation with NumPy\n",
    "This Jupyter notebook represents your first steps in learning OpenCV and image processing with Python. You're exploring fundamental concepts of working with image data using NumPy arrays and visualization with Matplotlib.\n",
    "\n",
    "**What This Notebook Demonstrates:**\n",
    "- Creating and manipulating NumPy arrays for image representation\n",
    "\n",
    "- Converting arrays to 8-bit unsigned integer format (common for grayscale images)\n",
    "\n",
    "- Visualizing arrays as grayscale images\n",
    "\n",
    "- Working with both sequential and random pixel values\n",
    "\n",
    "- Basic image display techniques with axis suppression\n",
    "\n",
    "**The notebook shows two approaches:**\n",
    "\n",
    "- A sequential 16×16 grayscale gradient (from 0 to 255)\n",
    "\n",
    "- A random 16×16 grayscale image\n",
    "\n",
    "These exercises form the foundation for understanding how digital images are represented as arrays in OpenCV and Python.\n",
    "\n"
   ]
  },
  {
   "cell_type": "code",
   "execution_count": 1,
   "id": "fbc121e30a2defb3",
   "metadata": {
    "ExecuteTime": {
     "start_time": "2025-08-10T15:29:40.217159Z"
    },
    "jupyter": {
     "is_executing": true
    }
   },
   "outputs": [],
   "source": [
    "import numpy as np\n",
    "import matplotlib.pyplot as plt"
   ]
  },
  {
   "cell_type": "code",
   "execution_count": 2,
   "id": "8798f734-a7a6-4b51-b503-4c3798a69487",
   "metadata": {},
   "outputs": [
    {
     "name": "stdout",
     "output_type": "stream",
     "text": [
      "[  0   1   2   3   4   5   6   7   8   9  10  11  12  13  14  15  16  17\n",
      "  18  19  20  21  22  23  24  25  26  27  28  29  30  31  32  33  34  35\n",
      "  36  37  38  39  40  41  42  43  44  45  46  47  48  49  50  51  52  53\n",
      "  54  55  56  57  58  59  60  61  62  63  64  65  66  67  68  69  70  71\n",
      "  72  73  74  75  76  77  78  79  80  81  82  83  84  85  86  87  88  89\n",
      "  90  91  92  93  94  95  96  97  98  99 100 101 102 103 104 105 106 107\n",
      " 108 109 110 111 112 113 114 115 116 117 118 119 120 121 122 123 124 125\n",
      " 126 127 128 129 130 131 132 133 134 135 136 137 138 139 140 141 142 143\n",
      " 144 145 146 147 148 149 150 151 152 153 154 155 156 157 158 159 160 161\n",
      " 162 163 164 165 166 167 168 169 170 171 172 173 174 175 176 177 178 179\n",
      " 180 181 182 183 184 185 186 187 188 189 190 191 192 193 194 195 196 197\n",
      " 198 199 200 201 202 203 204 205 206 207 208 209 210 211 212 213 214 215\n",
      " 216 217 218 219 220 221 222 223 224 225 226 227 228 229 230 231 232 233\n",
      " 234 235 236 237 238 239 240 241 242 243 244 245 246 247 248 249 250 251\n",
      " 252 253 254 255]\n"
     ]
    }
   ],
   "source": [
    "# create an array in the range (0,255) . 16 x 16\n",
    "arr = np.arange(0,256,1)\n",
    "print(arr)"
   ]
  },
  {
   "cell_type": "code",
   "execution_count": 3,
   "id": "66f7d6e5-790e-4796-a512-cd0ceb340c69",
   "metadata": {},
   "outputs": [
    {
     "name": "stdout",
     "output_type": "stream",
     "text": [
      "[[  0   1   2   3   4   5   6   7   8   9  10  11  12  13  14  15]\n",
      " [ 16  17  18  19  20  21  22  23  24  25  26  27  28  29  30  31]\n",
      " [ 32  33  34  35  36  37  38  39  40  41  42  43  44  45  46  47]\n",
      " [ 48  49  50  51  52  53  54  55  56  57  58  59  60  61  62  63]\n",
      " [ 64  65  66  67  68  69  70  71  72  73  74  75  76  77  78  79]\n",
      " [ 80  81  82  83  84  85  86  87  88  89  90  91  92  93  94  95]\n",
      " [ 96  97  98  99 100 101 102 103 104 105 106 107 108 109 110 111]\n",
      " [112 113 114 115 116 117 118 119 120 121 122 123 124 125 126 127]\n",
      " [128 129 130 131 132 133 134 135 136 137 138 139 140 141 142 143]\n",
      " [144 145 146 147 148 149 150 151 152 153 154 155 156 157 158 159]\n",
      " [160 161 162 163 164 165 166 167 168 169 170 171 172 173 174 175]\n",
      " [176 177 178 179 180 181 182 183 184 185 186 187 188 189 190 191]\n",
      " [192 193 194 195 196 197 198 199 200 201 202 203 204 205 206 207]\n",
      " [208 209 210 211 212 213 214 215 216 217 218 219 220 221 222 223]\n",
      " [224 225 226 227 228 229 230 231 232 233 234 235 236 237 238 239]\n",
      " [240 241 242 243 244 245 246 247 248 249 250 251 252 253 254 255]]\n"
     ]
    }
   ],
   "source": [
    "arr = arr.reshape((16,16))\n",
    "print(arr)"
   ]
  },
  {
   "cell_type": "code",
   "execution_count": 4,
   "id": "cf03818a-3020-4c24-a124-affaf19cc8c3",
   "metadata": {},
   "outputs": [],
   "source": [
    "arr_8bit = arr.astype(np.uint8)"
   ]
  },
  {
   "cell_type": "code",
   "execution_count": 5,
   "id": "b06bedcf-d5cc-4f7a-951d-e5530adf98fb",
   "metadata": {},
   "outputs": [
    {
     "data": {
      "image/png": "[encoded data removed]",
      "text/plain": [
       "<Figure size 640x480 with 1 Axes>"
      ]
     },
     "metadata": {},
     "output_type": "display_data"
    }
   ],
   "source": [
    "plt.imshow(arr_8bit,cmap='gray')\n",
    "plt.axis('off')\n",
    "plt.show()"
   ]
  },
  {
   "cell_type": "code",
   "execution_count": 6,
   "id": "cb5b91fe-ea56-4482-9d01-7e06739b9f69",
   "metadata": {},
   "outputs": [
    {
     "data": {
      "text/plain": [
       "(np.float64(-0.5), np.float64(15.5), np.float64(15.5), np.float64(-0.5))"
      ]
     },
     "execution_count": 6,
     "metadata": {},
     "output_type": "execute_result"
    },
    {
     "data": {
      "image/png": "[encoded data removed]",
      "text/plain": [
       "<Figure size 640x480 with 1 Axes>"
      ]
     },
     "metadata": {},
     "output_type": "display_data"
    }
   ],
   "source": [
    "# random matrix (16x16)\n",
    "arr1 = np.random.randint(low=0,high=255,size=(16,16),dtype=np.uint8)\n",
    "plt.imshow(arr1,cmap='gray')\n",
    "plt.axis('off')"
   ]
  },
  {
   "cell_type": "code",
   "execution_count": 7,
   "id": "8cdbaee3-55ca-4779-935f-a45aaee16f96",
   "metadata": {},
   "outputs": [
    {
     "data": {
      "text/plain": [
       "array([[172, 128,  58, 177, 177, 217, 254, 187, 161, 186,  83, 161,  76,\n",
       "         54,  34, 181],\n",
       "       [200,  96, 134,  78, 227,  42,  61,  17,  22,  83,  44,  62, 181,\n",
       "         49,  91,  47],\n",
       "       [ 53,  90,  73,  88, 213,  40, 196,  84, 165, 136, 248,  45,  18,\n",
       "        204,  42, 139],\n",
       "       [ 10, 254,  39, 175,  64, 159, 243, 146, 243,  78,   1, 247, 161,\n",
       "        116, 240, 225],\n",
       "       [  4, 151,   4, 186, 165, 106,  15,  36,  63, 101, 237, 195, 174,\n",
       "        188,  48, 134],\n",
       "       [ 33,  62, 154,  51, 176, 168, 175, 145, 146,  25,  86,  18, 208,\n",
       "        221, 246, 171],\n",
       "       [210, 143,  43, 159, 151,  68,  11,  37,  81,  28, 249, 222, 102,\n",
       "         30,  94, 139],\n",
       "       [158, 132,  23,  72, 210, 106,  22,  61,  68, 112, 133,  84,  33,\n",
       "         85, 128,  42],\n",
       "       [129, 160, 240,  95, 208, 228,  90,  95,  79,  40, 164, 197,  63,\n",
       "         22,  41, 138],\n",
       "       [212, 158,  20, 221,  70, 237,  77,  78,  21, 212, 210, 118,  48,\n",
       "        238,  17, 151],\n",
       "       [193, 250, 109,  57,   7,  45, 116, 113,   8, 210,  92,  47,  38,\n",
       "        208, 218, 243],\n",
       "       [193, 247, 159, 189,  31, 149, 175, 163,  87,  47, 149,   4, 200,\n",
       "        160, 247, 189],\n",
       "       [114,  51, 143, 188,  94, 158, 175, 183, 205, 145,  38,  57, 173,\n",
       "         26,  65, 237],\n",
       "       [169,  78,  55, 220, 192, 138, 248,  16, 144, 120, 109, 229, 135,\n",
       "        252,  18, 200],\n",
       "       [134, 101, 192,  19,  59, 218,  28, 232, 210, 223, 108, 224, 111,\n",
       "         77, 166,  80],\n",
       "       [225, 122,  67, 237,  99,  98, 223, 132, 249,  40, 141, 172,  41,\n",
       "        110, 211,  13]], dtype=uint8)"
      ]
     },
     "execution_count": 7,
     "metadata": {},
     "output_type": "execute_result"
    }
   ],
   "source": [
    "arr1"
   ]
  }
 ],
 "metadata": {
  "kernelspec": {
   "display_name": "Python 3 (ipykernel)",
   "language": "python",
   "name": "python3"
  },
  "language_info": {
   "codemirror_mode": {
    "name": "ipython",
    "version": 3
   },
   "file_extension": ".py",
   "mimetype": "text/x-python",
   "name": "python",
   "nbconvert_exporter": "python",
   "pygments_lexer": "ipython3",
   "version": "3.12.4"
  }
 },
 "nbformat": 4,
 "nbformat_minor": 5
}
