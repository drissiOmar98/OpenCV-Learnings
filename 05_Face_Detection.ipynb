{
 "cells": [
  {
   "cell_type": "markdown",
   "id": "0c496721-e920-4580-8466-cf242b03343e",
   "metadata": {},
   "source": [
    "# 👤 Face Detection with Haar Cascade Classifiers – OpenCV\n",
    "\n",
    "## Overview\n",
    "This notebook is part of my **OpenCV learning roadmap**.  \n",
    "The goal is to implement **face detection** using Haar cascade classifiers in two modes:\n",
    "1. **Static Image Face Detection**\n",
    "2. **Real-time Face Detection from Video**\n",
    "\n",
    "## Objectives\n",
    "- Load a **pre-trained Haar cascade classifier** for frontal face detection.\n",
    "- Convert images to **grayscale** for faster and more efficient processing.\n",
    "- Use `detectMultiScale()` to locate faces in the image/video frames.\n",
    "- Draw **bounding boxes** around detected faces.\n",
    "\n",
    "## Key Learnings\n",
    "- Haar cascades are **classical object detection methods** in OpenCV.\n",
    "- Face detection steps:\n",
    "  1. Convert image to **grayscale**.\n",
    "  2. Apply **cascade classifier** to detect regions of interest.\n",
    "  3. Draw rectangles on detected regions.\n",
    "- Parameters for `detectMultiScale()`:\n",
    "  - **`scaleFactor`** (`1.3` here) controls image scaling per iteration.\n",
    "  - **`minNeighbors`** (`5` here) controls detection accuracy and false positives.\n",
    "- Real-time detection works by processing each **frame** from a video source.\n",
    "\n",
    "## Tools & Libraries\n",
    "- **OpenCV** – for image/video handling, face detection, and drawing.\n",
    "- **NumPy** – for image array manipulation.\n",
    "\n",
    "---\n"
   ]
  },
  {
   "cell_type": "code",
   "execution_count": 1,
   "id": "initial_id",
   "metadata": {
    "ExecuteTime": {
     "end_time": "2025-08-07T23:43:32.968454Z",
     "start_time": "2025-08-07T23:43:32.959594Z"
    }
   },
   "outputs": [],
   "source": [
    "import numpy as np\n",
    "import cv2"
   ]
  },
  {
   "cell_type": "code",
   "execution_count": 2,
   "id": "d2a434f7-c622-40e6-bf98-13515a27fb15",
   "metadata": {},
   "outputs": [],
   "source": [
    "img = cv2.imread('./data/friends.jpg')\n",
    "\n",
    "cv2.imshow('image',img)\n",
    "cv2.waitKey()\n",
    "cv2.destroyAllWindows()"
   ]
  },
  {
   "cell_type": "code",
   "execution_count": 3,
   "id": "477b3816-f89d-4d36-83e4-4d1b73aaef1f",
   "metadata": {},
   "outputs": [],
   "source": [
    "# load cascade classifier\n",
    "haar = cv2.CascadeClassifier('./data/haarcascade_frontalface_default.xml')"
   ]
  },
  {
   "cell_type": "code",
   "execution_count": 4,
   "id": "b92e9d90-ad80-4fe1-a491-3e27231c8dfa",
   "metadata": {},
   "outputs": [],
   "source": [
    "image = img.copy()\n",
    "\n",
    "# step-1: convert image to grayscale\n",
    "gray = cv2.cvtColor(img,cv2.COLOR_BGR2GRAY)\n",
    "# step-2: apply grayscale image to cascade classifier\n",
    "face_rect = haar.detectMultiScale(gray,1.3,5)\n",
    "# step -3: draw bounding box\n",
    "for x,y,w,h in face_rect:\n",
    "    cv2.rectangle(image,(x,y),(x+w,y+h),(0,255,0),2)\n",
    "    \n",
    "    \n",
    "cv2.imshow('detected faces',image)\n",
    "cv2.waitKey()\n",
    "cv2.destroyAllWindows()"
   ]
  },
  {
   "cell_type": "markdown",
   "id": "7fd96182-8faf-4f9b-92ca-7510757f96c6",
   "metadata": {},
   "source": [
    "### Real Time Face Detection using OpenCV"
   ]
  },
  {
   "cell_type": "code",
   "execution_count": 5,
   "id": "dc363a15-bb8c-460c-937f-3e5ccbc8ad33",
   "metadata": {},
   "outputs": [],
   "source": [
    "cap = cv2.VideoCapture('./data/video.mp4')\n",
    "\n",
    "while True:\n",
    "    ret, frame = cap.read()\n",
    "    if ret == False:\n",
    "        break\n",
    "        \n",
    "    image = frame.copy()\n",
    "\n",
    "    # step-1: convert image to grayscale\n",
    "    gray = cv2.cvtColor(image,cv2.COLOR_BGR2GRAY)\n",
    "    # step-2: apply grayscale image to cascade classifier\n",
    "    face_rect = haar.detectMultiScale(gray,1.3,5)\n",
    "    # step -3: draw bounding box\n",
    "    for x,y,w,h in face_rect:\n",
    "        cv2.rectangle(image,(x,y),(x+w,y+h),(0,255,0),2)\n",
    "    \n",
    "    cv2.imshow('face detection',image)\n",
    "    \n",
    "    if cv2.waitKey(10) == 27:\n",
    "        break\n",
    "        \n",
    "cap.release()\n",
    "cv2.destroyAllWindows()"
   ]
  },
  {
   "cell_type": "code",
   "execution_count": null,
   "id": "b2d09ed1-2e0b-4102-bd55-bcbec1703760",
   "metadata": {},
   "outputs": [],
   "source": []
  }
 ],
 "metadata": {
  "kernelspec": {
   "display_name": "Python 3 (ipykernel)",
   "language": "python",
   "name": "python3"
  },
  "language_info": {
   "codemirror_mode": {
    "name": "ipython",
    "version": 3
   },
   "file_extension": ".py",
   "mimetype": "text/x-python",
   "name": "python",
   "nbconvert_exporter": "python",
   "pygments_lexer": "ipython3",
   "version": "3.12.4"
  }
 },
 "nbformat": 4,
 "nbformat_minor": 5
}
