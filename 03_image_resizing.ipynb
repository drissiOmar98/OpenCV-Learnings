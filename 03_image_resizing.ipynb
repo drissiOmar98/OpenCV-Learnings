{
 "cells": [
  {
   "cell_type": "markdown",
   "id": "9f0bcca4-c486-4501-a1fa-e3edd0bb29d3",
   "metadata": {},
   "source": [
    "# 🔍 Image Resizing – Shrinking and Enlarging with OpenCV\n",
    "\n",
    "## Overview\n",
    "This notebook is part of my **OpenCV learning roadmap**.  \n",
    "The focus here is on **image resizing techniques** — both shrinking (downsampling) and enlarging (upsampling) — using different interpolation methods.\n",
    "\n",
    "## Objectives\n",
    "- Load an image and inspect its original dimensions.\n",
    "- Reduce the image size while preserving quality.\n",
    "- Enlarge the image and compare interpolation results.\n",
    "- Understand the impact of different interpolation algorithms.\n",
    "\n",
    "## Key Learnings\n",
    "- **Shrinking** an image is best done using `cv2.INTER_AREA`, which avoids aliasing and preserves details.\n",
    "- **Enlarging** an image works well with:\n",
    "  - `cv2.INTER_LINEAR` – fast, reasonable quality.\n",
    "  - `cv2.INTER_CUBIC` – slower, better quality for larger scaling factors.\n",
    "- Image size is defined as `(width, height)` → `(columns, rows)` in OpenCV.\n",
    "\n",
    "## Tools & Libraries\n",
    "- **NumPy** – for array shape inspection.\n",
    "- **OpenCV** – for image reading, resizing, and display.\n",
    "\n",
    "---\n"
   ]
  },
  {
   "cell_type": "code",
   "execution_count": 1,
   "id": "initial_id",
   "metadata": {
    "ExecuteTime": {
     "end_time": "2025-08-10T15:48:47.399062Z",
     "start_time": "2025-08-10T15:48:47.269916Z"
    }
   },
   "outputs": [],
   "source": [
    "import numpy as np\n",
    "import cv2"
   ]
  },
  {
   "cell_type": "code",
   "execution_count": 2,
   "id": "868b59cb-7d63-4843-b92c-afa5b3b00cf0",
   "metadata": {},
   "outputs": [
    {
     "name": "stdout",
     "output_type": "stream",
     "text": [
      "(480, 640, 3)\n"
     ]
    }
   ],
   "source": [
    "#loading image\n",
    "img = cv2.imread('./data/flying_bird.jpg')\n",
    "\n",
    "print(img.shape)\n",
    "cv2.imshow('original',img)\n",
    "cv2.waitKey(0)\n",
    "cv2.destroyAllWindows()\n"
   ]
  },
  {
   "cell_type": "markdown",
   "id": "fd7c609f-57db-406e-9499-8d4d576b5384",
   "metadata": {},
   "source": [
    "###  Task\n",
    "1. Shink the image\n",
    "2. Enlarge the image"
   ]
  },
  {
   "cell_type": "code",
   "execution_count": 3,
   "id": "9136d775-1538-4ebb-a7fa-44e52edc5f98",
   "metadata": {},
   "outputs": [],
   "source": [
    "# shinking image\n",
    "# width = columns , height = rows\n",
    "img_shink = cv2.resize(img,dsize=(320,240),interpolation=cv2.INTER_AREA)\n",
    "\n",
    "# enlarge \n",
    "# cv2.INTER_CUBIC, cv2.INTER_LINEAR\n",
    "img_zoom = cv2.resize(img,dsize=(1280,960),interpolation=cv2.INTER_CUBIC) # "
   ]
  },
  {
   "cell_type": "code",
   "execution_count": 4,
   "id": "04bdd3ba-41cc-49c1-a40d-aa6e0efa7d46",
   "metadata": {},
   "outputs": [
    {
     "data": {
      "text/plain": [
       "((240, 320, 3), (960, 1280, 3))"
      ]
     },
     "execution_count": 4,
     "metadata": {},
     "output_type": "execute_result"
    }
   ],
   "source": [
    "img_shink.shape, img_zoom.shape"
   ]
  },
  {
   "cell_type": "code",
   "execution_count": 5,
   "id": "01afdaa4-0ee1-4f71-97da-d30e7da5aeb2",
   "metadata": {},
   "outputs": [],
   "source": [
    "cv2.imshow('original',img)\n",
    "cv2.imshow('Shink',img_shink)\n",
    "cv2.imshow('Zoom',img_zoom)\n",
    "cv2.waitKey(0)\n",
    "cv2.destroyAllWindows()"
   ]
  },
  {
   "cell_type": "code",
   "execution_count": null,
   "id": "d33709f6-88c4-42ca-ba7d-50882e52af43",
   "metadata": {},
   "outputs": [],
   "source": []
  }
 ],
 "metadata": {
  "kernelspec": {
   "display_name": "Python 3 (ipykernel)",
   "language": "python",
   "name": "python3"
  },
  "language_info": {
   "codemirror_mode": {
    "name": "ipython",
    "version": 3
   },
   "file_extension": ".py",
   "mimetype": "text/x-python",
   "name": "python",
   "nbconvert_exporter": "python",
   "pygments_lexer": "ipython3",
   "version": "3.12.4"
  }
 },
 "nbformat": 4,
 "nbformat_minor": 5
}
